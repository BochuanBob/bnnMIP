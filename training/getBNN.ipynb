{
 "cells": [
  {
   "cell_type": "code",
   "execution_count": 1,
   "metadata": {},
   "outputs": [],
   "source": [
    "import scipy.io as sio\n",
    "import tensorflow as tf\n",
    "from tensorflow.keras import regularizers\n",
    "import larq as lq\n",
    "import numpy as np\n",
    "from scipy.special import logsumexp"
   ]
  },
  {
   "cell_type": "code",
   "execution_count": 2,
   "metadata": {},
   "outputs": [
    {
     "name": "stdout",
     "output_type": "stream",
     "text": [
      "(60000, 28, 28)\n"
     ]
    }
   ],
   "source": [
    "(train_images, train_labels), (test_images, test_labels) = tf.keras.datasets.mnist.load_data()\n",
    "print(np.shape(train_images))"
   ]
  },
  {
   "cell_type": "code",
   "execution_count": 3,
   "metadata": {},
   "outputs": [],
   "source": [
    "(train_images, train_labels), (test_images, test_labels) = tf.keras.datasets.mnist.load_data()\n",
    "\n",
    "train_images = train_images.reshape((60000, 28, 28, 1))\n",
    "test_images = test_images.reshape((10000, 28, 28, 1))\n",
    "\n",
    "# Normalize pixel values to be between 0 and 1\n",
    "train_images, test_images = train_images / 255, test_images / 255"
   ]
  },
  {
   "cell_type": "code",
   "execution_count": 4,
   "metadata": {},
   "outputs": [],
   "source": [
    "# sio.savemat('data.mat', {'train_images':train_images, 'train_labels':train_labels,\n",
    "#                               'test_images':test_images, 'test_labels':test_labels})"
   ]
  },
  {
   "cell_type": "code",
   "execution_count": 36,
   "metadata": {},
   "outputs": [],
   "source": [
    "thresholdVal = 0.05\n",
    "layerSize = 500\n",
    "kwargs0 = dict(kernel_regularizer=tf.keras.regularizers.l1(0.0001))\n",
    "kwargs1 = dict(kernel_regularizer=tf.keras.regularizers.l1(0.0001))\n",
    "kwargs = dict(input_quantizer=\"ste_sign\",\n",
    "              kernel_quantizer=lq.quantizers.SteTern(threshold_value=thresholdVal,\n",
    "                                ternary_weight_networks=False,\n",
    "                                clip_value=1.0),\n",
    "              kernel_constraint=\"weight_clip\")\n",
    "model3 = tf.keras.models.Sequential([\n",
    "    tf.keras.layers.Flatten(input_shape=(28, 28, 1)),\n",
    "    lq.layers.QuantDense(layerSize, kernel_quantizer=lq.quantizers.SteTern(threshold_value=thresholdVal,\n",
    "                                ternary_weight_networks=False,\n",
    "                                clip_value=1.0),\n",
    "                                kernel_constraint=\"weight_clip\",\n",
    "                                use_bias=False, **kwargs0),\n",
    "    tf.keras.layers.BatchNormalization(scale=False, center=False),\n",
    "    lq.layers.QuantDense(layerSize, use_bias=False, **kwargs, **kwargs0),\n",
    "    tf.keras.layers.BatchNormalization(scale=False, center=False),\n",
    "    lq.layers.QuantDense(10, use_bias=False,input_quantizer=\"ste_sign\",\n",
    "              kernel_quantizer=\"ste_sign\",\n",
    "              kernel_constraint=\"weight_clip\"),\n",
    "    #tf.keras.layers.BatchNormalization(scale=False, center=False),\n",
    "    tf.keras.layers.Activation(\"softmax\")])"
   ]
  },
  {
   "cell_type": "code",
   "execution_count": 37,
   "metadata": {},
   "outputs": [
    {
     "name": "stdout",
     "output_type": "stream",
     "text": [
      "+sequential_2 stats------------------------------------------------------------------------------------------------------+\n",
      "| Layer                  Input prec.    Outputs  # 1-bit  # 2-bit  # 32-bit  Memory  1-bit MACs  2-bit MACs  32-bit MACs |\n",
      "|                              (bit)                 x 1      x 1       x 1    (kB)                                      |\n",
      "+------------------------------------------------------------------------------------------------------------------------+\n",
      "| flatten_2                        -  (-1, 784)        0        0         0       0           0           0            0 |\n",
      "| quant_dense_6                    -  (-1, 500)        0   392000         0   95.70           0           0       392000 |\n",
      "| batch_normalization_4            -  (-1, 500)        0        0      1000    3.91           0           0            0 |\n",
      "| quant_dense_7                    1  (-1, 500)        0   250000         0   61.04           0      250000            0 |\n",
      "| batch_normalization_5            -  (-1, 500)        0        0      1000    3.91           0           0            0 |\n",
      "| quant_dense_8                    1   (-1, 10)     5000        0         0    0.61        5000           0            0 |\n",
      "| activation_2                     -   (-1, 10)        0        0         0       0           ?           ?            ? |\n",
      "+------------------------------------------------------------------------------------------------------------------------+\n",
      "| Total                                             5000   642000      2000  165.16        5000      250000       392000 |\n",
      "+------------------------------------------------------------------------------------------------------------------------+\n",
      "+sequential_2 summary---------------------------+\n",
      "| Total params                       649 k      |\n",
      "| Trainable params                   647 k      |\n",
      "| Non-trainable params               2 k        |\n",
      "| Model size                         165.16 KiB |\n",
      "| Model size (8-bit FP weights)      159.30 KiB |\n",
      "| Float-32 Equivalent                2.48 MiB   |\n",
      "| Compression Ratio of Memory        0.07       |\n",
      "| Number of MACs                     647 k      |\n",
      "| Ratio of MACs that are binarized   0.0077     |\n",
      "| Ratio of MACs that are ternarized  0.3864     |\n",
      "+-----------------------------------------------+\n"
     ]
    }
   ],
   "source": [
    "lq.models.summary(model3)"
   ]
  },
  {
   "cell_type": "code",
   "execution_count": 38,
   "metadata": {},
   "outputs": [
    {
     "name": "stdout",
     "output_type": "stream",
     "text": [
      "Train on 60000 samples\n",
      "Epoch 1/2\n",
      "60000/60000 [==============================] - 20s 327us/sample - loss: 4.9381 - accuracy: 0.8742\n",
      "Epoch 2/2\n",
      "60000/60000 [==============================] - 18s 304us/sample - loss: 3.2961 - accuracy: 0.9052\n",
      "10000/1 - 2s - loss: 1.9563 - accuracy: 0.9062\n"
     ]
    }
   ],
   "source": [
    "# tf.random.set_seed(2020)\n",
    "model3.compile(optimizer='adam',\n",
    "              loss='sparse_categorical_crossentropy',\n",
    "              metrics=['accuracy'])\n",
    "\n",
    "model3.fit(train_images, train_labels, batch_size=64, epochs=2)\n",
    "test_loss, test_acc = model3.evaluate(test_images, test_labels, verbose=2)"
   ]
  },
  {
   "cell_type": "code",
   "execution_count": 39,
   "metadata": {},
   "outputs": [],
   "source": [
    "def fgsm(model, input_image, input_label, epsilon):\n",
    "    # Your implementation here\n",
    "    loss_object = tf.keras.losses.CategoricalCrossentropy()\n",
    "    optimizer = tf.keras.optimizers.Adam()\n",
    "    with tf.GradientTape() as tape:\n",
    "        tape.watch(input_image)\n",
    "        predictions = model(input_image)\n",
    "        loss = loss_object(input_label, predictions)\n",
    "    \n",
    "    gradients = tape.gradient(loss, input_image)\n",
    "    output_image = tf.clip_by_value(input_image + epsilon * tf.sign(gradients),\n",
    "                                   clip_value_min=0, clip_value_max=1)\n",
    "    return output_image"
   ]
  },
  {
   "cell_type": "code",
   "execution_count": 43,
   "metadata": {},
   "outputs": [
    {
     "name": "stdout",
     "output_type": "stream",
     "text": [
      "Train on 60000 samples\n",
      "60000/60000 [==============================] - 20s 337us/sample - loss: 1.9854 - accuracy: 0.9430\n",
      "Train on 10000 samples\n",
      "10000/10000 [==============================] - 4s 351us/sample - loss: 2.2809 - accuracy: 0.9304\n",
      "Train on 60000 samples\n",
      "60000/60000 [==============================] - 20s 331us/sample - loss: 1.9364 - accuracy: 0.9444\n",
      "Train on 10000 samples\n",
      "10000/10000 [==============================] - 3s 325us/sample - loss: 2.2071 - accuracy: 0.9304\n",
      "10000/1 - 2s - loss: 1.2893 - accuracy: 0.9484\n"
     ]
    }
   ],
   "source": [
    "adversarial = True\n",
    "model3.compile(optimizer='adadelta',\n",
    "              loss='sparse_categorical_crossentropy',\n",
    "              metrics=['accuracy'])\n",
    "if (adversarial):\n",
    "    # adversarial training\n",
    "    epochs = 2 \n",
    "    for i in range(epochs):\n",
    "        model3.fit(train_images, train_labels, batch_size=64, epochs=1)\n",
    "        tensor_images = tf.convert_to_tensor(test_images)\n",
    "        tensor_one_hot_labels = tf.convert_to_tensor(tf.one_hot(test_labels, 10))\n",
    "        perturbed_images = fgsm(model3, tensor_images, tensor_one_hot_labels, 0.01)\n",
    "        model3.fit(perturbed_images, test_labels, batch_size=64, epochs=1)\n",
    "\n",
    "    test_loss, test_acc = model3.evaluate(test_images, test_labels, verbose=2)"
   ]
  },
  {
   "cell_type": "code",
   "execution_count": 44,
   "metadata": {},
   "outputs": [
    {
     "name": "stdout",
     "output_type": "stream",
     "text": [
      "(10000, 28, 28, 1)\n"
     ]
    }
   ],
   "source": [
    "print(perturbed_images.shape)"
   ]
  },
  {
   "cell_type": "code",
   "execution_count": 46,
   "metadata": {},
   "outputs": [],
   "source": [
    "def SteTernWeight(weight, threshold=0.05):\n",
    "    (m, n) = np.shape(weight)\n",
    "    for i in range(m):\n",
    "        for j in range(n):\n",
    "            if (weight[i, j] >= threshold):\n",
    "                weight[i,j] = 1\n",
    "            elif (weight[i, j] >= -threshold):\n",
    "                weight[i, j] = 0\n",
    "            else:\n",
    "                weight[i, j] = -1\n",
    "    return weight\n",
    "                \n",
    "\n",
    "def SignVec(vec):\n",
    "    vec1 = (vec >= 0)\n",
    "    vec1 = 2 * vec1 - 1\n",
    "    return vec1"
   ]
  },
  {
   "cell_type": "code",
   "execution_count": 47,
   "metadata": {},
   "outputs": [
    {
     "name": "stdout",
     "output_type": "stream",
     "text": [
      "[[ 22.]\n",
      " [ 40.]\n",
      " [ 80.]\n",
      " [ 28.]\n",
      " [-62.]\n",
      " [ -2.]\n",
      " [ 18.]\n",
      " [-60.]\n",
      " [ 38.]\n",
      " [-88.]]\n",
      "[[6.47023493e-26]\n",
      " [4.24835426e-18]\n",
      " [1.00000000e+00]\n",
      " [2.61027907e-23]\n",
      " [2.13886596e-62]\n",
      " [2.44260074e-36]\n",
      " [1.18506486e-27]\n",
      " [1.58042006e-61]\n",
      " [5.74952226e-19]\n",
      " [1.09276566e-73]]\n"
     ]
    }
   ],
   "source": [
    "testData = test_images[1, :, :, :].reshape(28*28,1)\n",
    "weight1 = model3.layers[1].get_weights()[0]\n",
    "weight2 = model3.layers[3].get_weights()[0]\n",
    "weight3 = model3.layers[5].get_weights()[0]\n",
    "\n",
    "mean1 = model3.layers[2].get_weights()[0].reshape(layerSize, 1)\n",
    "# offset1 = model3.layers[2].get_weights()[1].reshape(layerSize, 1)\n",
    "variance1 = model3.layers[2].get_weights()[1].reshape(layerSize, 1)\n",
    "\n",
    "mean2 = model3.layers[4].get_weights()[0].reshape(layerSize, 1)\n",
    "# offset2 = model3.layers[4].get_weights()[1].reshape(layerSize, 1)\n",
    "variance2 = model3.layers[4].get_weights()[1].reshape(layerSize, 1)\n",
    "\n",
    "weight1 = SteTernWeight(weight1, threshold=thresholdVal)\n",
    "weight2 = SteTernWeight(weight2, threshold=thresholdVal)\n",
    "weight3 = SteTernWeight(weight3, threshold=0)\n",
    "\n",
    "l1 = np.matrix(weight1).T * testData\n",
    "l1 = (np.array(l1) - mean1) #/ np.sqrt(variance1)\n",
    "#l1 = np.sqrt(variance1) * np.array(l1) + mean1\n",
    "l1 = SignVec(l1)\n",
    "\n",
    "l2 = np.matrix(weight2).T * l1\n",
    "l2 = (np.array(l2) - mean2) #/ np.sqrt(variance2)\n",
    "#l2 = np.sqrt(variance2) * np.array(l2) + mean2\n",
    "l2 = SignVec(l2)\n",
    "\n",
    "l3 = np.matrix(weight3).T * l2\n",
    "\n",
    "print(l3)\n",
    "\n",
    "print(np.exp(l3-logsumexp(l3)))"
   ]
  },
  {
   "cell_type": "code",
   "execution_count": 26,
   "metadata": {},
   "outputs": [
    {
     "name": "stdout",
     "output_type": "stream",
     "text": [
      "[0.         0.         0.32941176 0.7254902  0.62352941 0.59215686\n",
      " 0.23529412 0.14117647 0.         0.         0.         0.\n",
      " 0.         0.         0.         0.         0.         0.\n",
      " 0.         0.         0.         0.         0.         0.\n",
      " 0.         0.         0.         0.         0.         0.\n",
      " 0.87058824 0.99607843 0.99607843 0.99607843 0.99607843 0.94509804\n",
      " 0.77647059 0.77647059 0.77647059 0.77647059]\n"
     ]
    }
   ],
   "source": [
    "testData = test_images[0, :, :, :].reshape(28*28, order=\"A\")\n",
    "print(testData[200:240])"
   ]
  },
  {
   "cell_type": "code",
   "execution_count": 48,
   "metadata": {},
   "outputs": [
    {
     "data": {
      "text/plain": [
       "0.9709336734693877"
      ]
     },
     "execution_count": 48,
     "metadata": {},
     "output_type": "execute_result"
    }
   ],
   "source": [
    "np.sum(weight1 == 0)/ np.size(weight1)"
   ]
  },
  {
   "cell_type": "code",
   "execution_count": 49,
   "metadata": {},
   "outputs": [
    {
     "data": {
      "text/plain": [
       "0.929272"
      ]
     },
     "execution_count": 49,
     "metadata": {},
     "output_type": "execute_result"
    }
   ],
   "source": [
    "np.sum(weight2 == 0) / np.size(weight2)"
   ]
  },
  {
   "cell_type": "code",
   "execution_count": 50,
   "metadata": {},
   "outputs": [
    {
     "data": {
      "text/plain": [
       "0.0"
      ]
     },
     "execution_count": 50,
     "metadata": {},
     "output_type": "execute_result"
    }
   ],
   "source": [
    "np.sum(weight3 == 0) / np.size(weight3)"
   ]
  },
  {
   "cell_type": "code",
   "execution_count": 51,
   "metadata": {},
   "outputs": [
    {
     "data": {
      "text/plain": [
       "array([[6.4702353e-26, 4.2483541e-18, 1.0000000e+00, 2.6102794e-23,\n",
       "        0.0000000e+00, 2.4426009e-36, 1.1850651e-27, 0.0000000e+00,\n",
       "        5.7495231e-19, 0.0000000e+00]], dtype=float32)"
      ]
     },
     "execution_count": 51,
     "metadata": {},
     "output_type": "execute_result"
    }
   ],
   "source": [
    "model3.predict(test_images[1:2, :, :, :])"
   ]
  },
  {
   "cell_type": "code",
   "execution_count": 52,
   "metadata": {},
   "outputs": [],
   "source": [
    "mean3 = np.zeros(np.shape(weight3)[1])\n",
    "upper = np.ones(np.shape(weight1)[0])\n",
    "lower = np.zeros(np.shape(weight1)[0])\n",
    "modelToSave = [{\"name\":\"Flatten1\", \"type\":\"flatten\", \"inputSize\": (28,28,1)},\n",
    "               {\"name\":\"QuantDense1\", \"type\":\"dense\", \"weights\": weight1.T, \"bias\": -mean1,\n",
    "                \"activation\":\"Sign\",\"upper\":upper, \"lower\":lower}, \n",
    "               {\"name\":\"QuantDense2\", \"type\":\"denseBin\", \"weights\": weight2.T, \"bias\": -mean2, \"activation\":\"Sign\"},\n",
    "               {\"name\":\"Dense\", \"type\":\"denseBin\", \"weights\": weight3.T, \"bias\": mean3}]\n",
    "sio.savemat('nn2F500AllSparseAdv.mat', {'nn':modelToSave})\n",
    "#print(modelToSave[1])"
   ]
  },
  {
   "cell_type": "code",
   "execution_count": 17,
   "metadata": {},
   "outputs": [
    {
     "data": {
      "text/plain": [
       "array([0., 0., 0., 0., 0., 0., 0., 0., 0., 0.])"
      ]
     },
     "execution_count": 17,
     "metadata": {},
     "output_type": "execute_result"
    }
   ],
   "source": [
    "mean3"
   ]
  }
 ],
 "metadata": {
  "kernelspec": {
   "display_name": "Python 3",
   "language": "python",
   "name": "python3"
  },
  "language_info": {
   "codemirror_mode": {
    "name": "ipython",
    "version": 3
   },
   "file_extension": ".py",
   "mimetype": "text/x-python",
   "name": "python",
   "nbconvert_exporter": "python",
   "pygments_lexer": "ipython3",
   "version": "3.7.5"
  }
 },
 "nbformat": 4,
 "nbformat_minor": 2
}
