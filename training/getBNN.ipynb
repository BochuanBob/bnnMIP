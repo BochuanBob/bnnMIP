{
 "cells": [
  {
   "cell_type": "code",
   "execution_count": 14,
   "metadata": {},
   "outputs": [],
   "source": [
    "import scipy.io as sio\n",
    "import tensorflow as tf\n",
    "import larq as lq\n",
    "import numpy as np\n",
    "from scipy.special import logsumexp"
   ]
  },
  {
   "cell_type": "code",
   "execution_count": 15,
   "metadata": {},
   "outputs": [
    {
     "name": "stdout",
     "output_type": "stream",
     "text": [
      "(60000, 28, 28)\n"
     ]
    }
   ],
   "source": [
    "(train_images, train_labels), (test_images, test_labels) = tf.keras.datasets.mnist.load_data()\n",
    "print(np.shape(train_images))"
   ]
  },
  {
   "cell_type": "code",
   "execution_count": 16,
   "metadata": {},
   "outputs": [],
   "source": [
    "(train_images, train_labels), (test_images, test_labels) = tf.keras.datasets.mnist.load_data()\n",
    "\n",
    "train_images = train_images.reshape((60000, 28, 28, 1))\n",
    "test_images = test_images.reshape((10000, 28, 28, 1))\n",
    "\n",
    "# Normalize pixel values to be between -1 and 1\n",
    "train_images, test_images = train_images / 255, test_images / 255"
   ]
  },
  {
   "cell_type": "code",
   "execution_count": 4,
   "metadata": {},
   "outputs": [],
   "source": [
    "sio.savemat('data.mat', {'train_images':train_images, 'train_labels':train_labels,\n",
    "                              'test_images':test_images, 'test_labels':test_labels})"
   ]
  },
  {
   "cell_type": "code",
   "execution_count": 41,
   "metadata": {},
   "outputs": [],
   "source": [
    "thresholdVal = 0.05\n",
    "layerSize = 100\n",
    "kwargs = dict(input_quantizer=\"ste_sign\",\n",
    "              kernel_quantizer=lq.quantizers.SteTern(threshold_value=thresholdVal,\n",
    "                                ternary_weight_networks=False,\n",
    "                                clip_value=1.0),\n",
    "              kernel_constraint=\"weight_clip\")\n",
    "model3 = tf.keras.models.Sequential([\n",
    "    tf.keras.layers.Flatten(input_shape=(28, 28, 1)),\n",
    "    lq.layers.QuantDense(layerSize, kernel_quantizer=lq.quantizers.SteTern(threshold_value=0.05,\n",
    "                                                    ternary_weight_networks=False,\n",
    "                                                    clip_value=1.0),\n",
    "                                kernel_constraint=\"weight_clip\",\n",
    "                                use_bias=False),\n",
    "    tf.keras.layers.BatchNormalization(scale=False, center=False),\n",
    "    lq.layers.QuantDense(layerSize, use_bias=False, **kwargs),\n",
    "    tf.keras.layers.BatchNormalization(scale=False, center=False),\n",
    "    lq.layers.QuantDense(10, use_bias=False, **kwargs),\n",
    "    #tf.keras.layers.BatchNormalization(scale=False, center=False),\n",
    "    tf.keras.layers.Activation(\"softmax\")])"
   ]
  },
  {
   "cell_type": "code",
   "execution_count": 42,
   "metadata": {},
   "outputs": [
    {
     "name": "stdout",
     "output_type": "stream",
     "text": [
      "+sequential_4 stats---------------------------------------------------------------------------------+\n",
      "| Layer                  Input prec.    Outputs  # 2-bit  # 32-bit  Memory  2-bit MACs  32-bit MACs |\n",
      "|                              (bit)                 x 1       x 1    (kB)                          |\n",
      "+---------------------------------------------------------------------------------------------------+\n",
      "| flatten_4                        -  (-1, 784)        0         0       0           0            0 |\n",
      "| quant_dense_12                   -  (-1, 100)    78400         0   19.14           0        78400 |\n",
      "| batch_normalization_8            -  (-1, 100)        0       200    0.78           0            0 |\n",
      "| quant_dense_13                   1  (-1, 100)    10000         0    2.44       10000            0 |\n",
      "| batch_normalization_9            -  (-1, 100)        0       200    0.78           0            0 |\n",
      "| quant_dense_14                   1   (-1, 10)     1000         0    0.24        1000            0 |\n",
      "| activation_4                     -   (-1, 10)        0         0       0           ?            ? |\n",
      "+---------------------------------------------------------------------------------------------------+\n",
      "| Total                                            89400       400   23.39       11000        78400 |\n",
      "+---------------------------------------------------------------------------------------------------+\n",
      "+sequential_4 summary---------------------------+\n",
      "| Total params                       89.8 k     |\n",
      "| Trainable params                   89.4 k     |\n",
      "| Non-trainable params               400        |\n",
      "| Model size                         23.39 KiB  |\n",
      "| Model size (8-bit FP weights)      22.22 KiB  |\n",
      "| Float-32 Equivalent                350.78 KiB |\n",
      "| Compression Ratio of Memory        0.07       |\n",
      "| Number of MACs                     89.4 k     |\n",
      "| Ratio of MACs that are ternarized  0.1230     |\n",
      "+-----------------------------------------------+\n"
     ]
    }
   ],
   "source": [
    "lq.models.summary(model3)"
   ]
  },
  {
   "cell_type": "code",
   "execution_count": 44,
   "metadata": {},
   "outputs": [
    {
     "name": "stdout",
     "output_type": "stream",
     "text": [
      "Train on 60000 samples\n",
      "Epoch 1/50\n",
      "60000/60000 [==============================] - 7s 114us/sample - loss: 0.3183 - accuracy: 0.9496\n",
      "Epoch 2/50\n",
      "60000/60000 [==============================] - 8s 126us/sample - loss: 0.3035 - accuracy: 0.9511\n",
      "Epoch 3/50\n",
      "60000/60000 [==============================] - 6s 106us/sample - loss: 0.3076 - accuracy: 0.9497\n",
      "Epoch 4/50\n",
      "60000/60000 [==============================] - 5s 91us/sample - loss: 0.3047 - accuracy: 0.9506\n",
      "Epoch 5/50\n",
      "60000/60000 [==============================] - 7s 120us/sample - loss: 0.3017 - accuracy: 0.9507\n",
      "Epoch 6/50\n",
      "60000/60000 [==============================] - 6s 100us/sample - loss: 0.2990 - accuracy: 0.9513\n",
      "Epoch 7/50\n",
      "60000/60000 [==============================] - 8s 141us/sample - loss: 0.2870 - accuracy: 0.9527\n",
      "Epoch 8/50\n",
      "60000/60000 [==============================] - 19s 310us/sample - loss: 0.2978 - accuracy: 0.9520\n",
      "Epoch 9/50\n",
      "60000/60000 [==============================] - 9s 150us/sample - loss: 0.2962 - accuracy: 0.9509\n",
      "Epoch 10/50\n",
      "60000/60000 [==============================] - 8s 126us/sample - loss: 0.2888 - accuracy: 0.9519\n",
      "Epoch 11/50\n",
      "60000/60000 [==============================] - 7s 121us/sample - loss: 0.2989 - accuracy: 0.9518\n",
      "Epoch 12/50\n",
      "60000/60000 [==============================] - 5s 88us/sample - loss: 0.2887 - accuracy: 0.9521\n",
      "Epoch 13/50\n",
      "60000/60000 [==============================] - 5s 89us/sample - loss: 0.3094 - accuracy: 0.9506\n",
      "Epoch 14/50\n",
      "60000/60000 [==============================] - 9s 156us/sample - loss: 0.2951 - accuracy: 0.9505\n",
      "Epoch 15/50\n",
      "60000/60000 [==============================] - 8s 129us/sample - loss: 0.2828 - accuracy: 0.9532\n",
      "Epoch 16/50\n",
      "60000/60000 [==============================] - 8s 130us/sample - loss: 0.2892 - accuracy: 0.9521\n",
      "Epoch 17/50\n",
      "60000/60000 [==============================] - 8s 139us/sample - loss: 0.2906 - accuracy: 0.9526\n",
      "Epoch 18/50\n",
      "60000/60000 [==============================] - 7s 119us/sample - loss: 0.2801 - accuracy: 0.9540\n",
      "Epoch 19/50\n",
      "60000/60000 [==============================] - 8s 133us/sample - loss: 0.2813 - accuracy: 0.9542\n",
      "Epoch 20/50\n",
      "60000/60000 [==============================] - 9s 158us/sample - loss: 0.2830 - accuracy: 0.9529\n",
      "Epoch 21/50\n",
      "60000/60000 [==============================] - 8s 134us/sample - loss: 0.2847 - accuracy: 0.9535\n",
      "Epoch 22/50\n",
      "60000/60000 [==============================] - 7s 115us/sample - loss: 0.2871 - accuracy: 0.9543\n",
      "Epoch 23/50\n",
      "60000/60000 [==============================] - 6s 106us/sample - loss: 0.2819 - accuracy: 0.9529\n",
      "Epoch 24/50\n",
      "60000/60000 [==============================] - 8s 137us/sample - loss: 0.2809 - accuracy: 0.9542 - loss: 0.2807 - accu\n",
      "Epoch 25/50\n",
      "60000/60000 [==============================] - 10s 162us/sample - loss: 0.2840 - accuracy: 0.9538\n",
      "Epoch 26/50\n",
      "60000/60000 [==============================] - 11s 183us/sample - loss: 0.2822 - accuracy: 0.9536\n",
      "Epoch 27/50\n",
      "60000/60000 [==============================] - 11s 182us/sample - loss: 0.2890 - accuracy: 0.9533\n",
      "Epoch 28/50\n",
      "60000/60000 [==============================] - 8s 134us/sample - loss: 0.2824 - accuracy: 0.9536\n",
      "Epoch 29/50\n",
      "60000/60000 [==============================] - 7s 119us/sample - loss: 0.2736 - accuracy: 0.9549\n",
      "Epoch 30/50\n",
      "60000/60000 [==============================] - 7s 124us/sample - loss: 0.2715 - accuracy: 0.9545\n",
      "Epoch 31/50\n",
      "60000/60000 [==============================] - 7s 125us/sample - loss: 0.2654 - accuracy: 0.9553\n",
      "Epoch 32/50\n",
      "60000/60000 [==============================] - 8s 128us/sample - loss: 0.2810 - accuracy: 0.9546\n",
      "Epoch 33/50\n",
      "60000/60000 [==============================] - 9s 144us/sample - loss: 0.2694 - accuracy: 0.9550 - los\n",
      "Epoch 34/50\n",
      "60000/60000 [==============================] - 8s 137us/sample - loss: 0.2757 - accuracy: 0.9547\n",
      "Epoch 35/50\n",
      "60000/60000 [==============================] - 7s 123us/sample - loss: 0.2790 - accuracy: 0.9545\n",
      "Epoch 36/50\n",
      "60000/60000 [==============================] - 8s 135us/sample - loss: 0.2622 - accuracy: 0.9553\n",
      "Epoch 37/50\n",
      "60000/60000 [==============================] - 9s 143us/sample - loss: 0.2674 - accuracy: 0.9543\n",
      "Epoch 38/50\n",
      "60000/60000 [==============================] - 9s 142us/sample - loss: 0.2705 - accuracy: 0.9541\n",
      "Epoch 39/50\n",
      "60000/60000 [==============================] - 8s 132us/sample - loss: 0.2757 - accuracy: 0.9549\n",
      "Epoch 40/50\n",
      "60000/60000 [==============================] - 8s 134us/sample - loss: 0.2739 - accuracy: 0.9556\n",
      "Epoch 41/50\n",
      "60000/60000 [==============================] - 9s 148us/sample - loss: 0.2608 - accuracy: 0.9566\n",
      "Epoch 42/50\n",
      "60000/60000 [==============================] - 8s 131us/sample - loss: 0.2633 - accuracy: 0.9562\n",
      "Epoch 43/50\n",
      "60000/60000 [==============================] - 10s 175us/sample - loss: 0.2753 - accuracy: 0.9538\n",
      "Epoch 44/50\n",
      "60000/60000 [==============================] - 10s 172us/sample - loss: 0.2649 - accuracy: 0.9564\n",
      "Epoch 45/50\n",
      "60000/60000 [==============================] - 9s 144us/sample - loss: 0.2741 - accuracy: 0.9553\n",
      "Epoch 46/50\n",
      "60000/60000 [==============================] - 9s 150us/sample - loss: 0.2767 - accuracy: 0.9551\n",
      "Epoch 47/50\n",
      "60000/60000 [==============================] - 9s 156us/sample - loss: 0.2596 - accuracy: 0.9556\n",
      "Epoch 48/50\n",
      "60000/60000 [==============================] - 8s 137us/sample - loss: 0.2543 - accuracy: 0.9563\n",
      "Epoch 49/50\n",
      "60000/60000 [==============================] - 5s 81us/sample - loss: 0.2613 - accuracy: 0.9561\n",
      "Epoch 50/50\n",
      "60000/60000 [==============================] - 5s 82us/sample - loss: 0.2698 - accuracy: 0.9553\n",
      "10000/1 - 1s - loss: 0.4662 - accuracy: 0.9418\n"
     ]
    }
   ],
   "source": [
    "# tf.random.set_seed(2020)\n",
    "model3.compile(optimizer='adam',\n",
    "              loss='sparse_categorical_crossentropy',\n",
    "              metrics=['accuracy'])\n",
    "\n",
    "model3.fit(train_images, train_labels, batch_size=64, epochs=50)\n",
    "test_loss, test_acc = model3.evaluate(test_images, test_labels, verbose=2)"
   ]
  },
  {
   "cell_type": "code",
   "execution_count": 45,
   "metadata": {},
   "outputs": [],
   "source": [
    "def SteTernWeight(weight, threshold=0.05):\n",
    "    (m, n) = np.shape(weight)\n",
    "    for i in range(m):\n",
    "        for j in range(n):\n",
    "            if (weight[i, j] >= 0.05):\n",
    "                weight[i,j] = 1\n",
    "            elif (weight[i, j] >= -0.05):\n",
    "                weight[i, j] = 0\n",
    "            else:\n",
    "                weight[i, j] = -1\n",
    "    return weight\n",
    "                \n",
    "\n",
    "def SignVec(vec):\n",
    "    vec1 = (vec >= 0)\n",
    "    vec1 = 2 * vec1 - 1\n",
    "    return vec1"
   ]
  },
  {
   "cell_type": "code",
   "execution_count": 46,
   "metadata": {},
   "outputs": [
    {
     "name": "stdout",
     "output_type": "stream",
     "text": [
      "[[ -1.]\n",
      " [  5.]\n",
      " [  3.]\n",
      " [  6.]\n",
      " [  0.]\n",
      " [ -5.]\n",
      " [ -8.]\n",
      " [ 33.]\n",
      " [-20.]\n",
      " [  0.]]\n",
      "[[1.71390843e-15]\n",
      " [6.91440011e-13]\n",
      " [9.35762297e-14]\n",
      " [1.87952882e-12]\n",
      " [4.65888615e-15]\n",
      " [3.13913279e-17]\n",
      " [1.56288219e-18]\n",
      " [1.00000000e+00]\n",
      " [9.60268005e-24]\n",
      " [4.65888615e-15]]\n"
     ]
    }
   ],
   "source": [
    "testData = test_images[0, :, :, :].reshape(28*28,1)\n",
    "weight1 = model3.layers[1].get_weights()[0]\n",
    "weight2 = model3.layers[3].get_weights()[0]\n",
    "weight3 = model3.layers[5].get_weights()[0]\n",
    "\n",
    "mean1 = model3.layers[2].get_weights()[0].reshape(layerSize, 1)\n",
    "# offset1 = model3.layers[2].get_weights()[1].reshape(layerSize, 1)\n",
    "variance1 = model3.layers[2].get_weights()[1].reshape(layerSize, 1)\n",
    "\n",
    "mean2 = model3.layers[4].get_weights()[0].reshape(layerSize, 1)\n",
    "# offset2 = model3.layers[4].get_weights()[1].reshape(layerSize, 1)\n",
    "variance2 = model3.layers[4].get_weights()[1].reshape(layerSize, 1)\n",
    "\n",
    "weight1 = SteTernWeight(weight1, threshold=thresholdVal)\n",
    "weight2 = SteTernWeight(weight2, threshold=thresholdVal)\n",
    "weight3 = SteTernWeight(weight3, threshold=thresholdVal)\n",
    "\n",
    "l1 = np.matrix(weight1).T * testData\n",
    "l1 = (np.array(l1) - mean1) #/ np.sqrt(variance1)\n",
    "#l1 = np.sqrt(variance1) * np.array(l1) + mean1\n",
    "l1 = SignVec(l1)\n",
    "\n",
    "l2 = np.matrix(weight2).T * l1\n",
    "l2 = (np.array(l2) - mean2) #/ np.sqrt(variance2)\n",
    "#l2 = np.sqrt(variance2) * np.array(l2) + mean2\n",
    "l2 = SignVec(l2)\n",
    "\n",
    "l3 = np.matrix(weight3).T * l2\n",
    "\n",
    "print(l3)\n",
    "\n",
    "print(np.exp(l3-logsumexp(l3)))"
   ]
  },
  {
   "cell_type": "code",
   "execution_count": 48,
   "metadata": {},
   "outputs": [
    {
     "name": "stdout",
     "output_type": "stream",
     "text": [
      "[0.         0.         0.32941176 0.7254902  0.62352941 0.59215686\n",
      " 0.23529412 0.14117647 0.         0.         0.         0.\n",
      " 0.         0.         0.         0.         0.         0.\n",
      " 0.         0.         0.         0.         0.         0.\n",
      " 0.         0.         0.         0.         0.         0.\n",
      " 0.87058824 0.99607843 0.99607843 0.99607843 0.99607843 0.94509804\n",
      " 0.77647059 0.77647059 0.77647059 0.77647059]\n"
     ]
    }
   ],
   "source": [
    "testData = test_images[0, :, :, :].reshape(28*28, order=\"A\")\n",
    "print(testData[200:240])"
   ]
  },
  {
   "cell_type": "code",
   "execution_count": 49,
   "metadata": {},
   "outputs": [
    {
     "data": {
      "text/plain": [
       "0.1860969387755102"
      ]
     },
     "execution_count": 49,
     "metadata": {},
     "output_type": "execute_result"
    }
   ],
   "source": [
    "np.sum(weight1 == 0)/ np.size(weight1)"
   ]
  },
  {
   "cell_type": "code",
   "execution_count": 50,
   "metadata": {},
   "outputs": [
    {
     "data": {
      "text/plain": [
       "0.1991"
      ]
     },
     "execution_count": 50,
     "metadata": {},
     "output_type": "execute_result"
    }
   ],
   "source": [
    "np.sum(weight2 == 0) / np.size(weight2)"
   ]
  },
  {
   "cell_type": "code",
   "execution_count": 51,
   "metadata": {},
   "outputs": [
    {
     "data": {
      "text/plain": [
       "0.471"
      ]
     },
     "execution_count": 51,
     "metadata": {},
     "output_type": "execute_result"
    }
   ],
   "source": [
    "np.sum(weight3 == 0) / np.size(weight3)"
   ]
  },
  {
   "cell_type": "code",
   "execution_count": 52,
   "metadata": {},
   "outputs": [
    {
     "data": {
      "text/plain": [
       "array([[1.7139086e-15, 6.9144002e-13, 9.3576222e-14, 1.8795289e-12,\n",
       "        4.6588866e-15, 3.1391329e-17, 1.5628822e-18, 1.0000000e+00,\n",
       "        9.6026815e-24, 4.6588866e-15]], dtype=float32)"
      ]
     },
     "execution_count": 52,
     "metadata": {},
     "output_type": "execute_result"
    }
   ],
   "source": [
    "model3.predict(test_images[0:1, :, :, :])"
   ]
  },
  {
   "cell_type": "code",
   "execution_count": 53,
   "metadata": {},
   "outputs": [],
   "source": [
    "mean3 = np.zeros(np.shape(weight3)[1])\n",
    "upper = np.ones(np.shape(weight1)[0])\n",
    "lower = np.zeros(np.shape(weight1)[0])\n",
    "modelToSave = [{\"name\":\"Flatten1\", \"type\":\"flatten\", \"inputSize\": (28,28,1)},\n",
    "               {\"name\":\"QuantDense1\", \"type\":\"dense\", \"weights\": weight1.T, \"bias\": -mean1,\n",
    "                \"activation\":\"Sign\",\"upper\":upper, \"lower\":lower}, \n",
    "               {\"name\":\"QuantDense2\", \"type\":\"denseBin\", \"weights\": weight2.T, \"bias\": -mean2, \"activation\":\"Sign\"},\n",
    "               {\"name\":\"Dense\", \"type\":\"denseBin\", \"weights\": weight3.T, \"bias\": mean3}]\n",
    "sio.savemat('nn2x100.mat', {'nn':modelToSave})\n",
    "#print(modelToSave[1])"
   ]
  },
  {
   "cell_type": "code",
   "execution_count": 37,
   "metadata": {},
   "outputs": [
    {
     "data": {
      "text/plain": [
       "array([0., 0., 0., 0., 0., 0., 0., 0., 0., 0.])"
      ]
     },
     "execution_count": 37,
     "metadata": {},
     "output_type": "execute_result"
    }
   ],
   "source": [
    "mean3"
   ]
  }
 ],
 "metadata": {
  "kernelspec": {
   "display_name": "Python 3",
   "language": "python",
   "name": "python3"
  },
  "language_info": {
   "codemirror_mode": {
    "name": "ipython",
    "version": 3
   },
   "file_extension": ".py",
   "mimetype": "text/x-python",
   "name": "python",
   "nbconvert_exporter": "python",
   "pygments_lexer": "ipython3",
   "version": "3.7.5"
  }
 },
 "nbformat": 4,
 "nbformat_minor": 2
}
